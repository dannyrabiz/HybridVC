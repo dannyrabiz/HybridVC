{
 "cells": [
  {
   "cell_type": "code",
   "execution_count": 1,
   "id": "09c56d69-42df-40ef-a519-8d06012895d5",
   "metadata": {},
   "outputs": [
    {
     "name": "stdout",
     "output_type": "stream",
     "text": [
      "Populating the interactive namespace from numpy and matplotlib\n"
     ]
    }
   ],
   "source": [
    "%pylab inline \n",
    "import pandas as pd\n",
    "import os \n",
    "import plotly.express as px\n",
    "import matplotlib.pyplot as plt\n",
    "import itertools \n",
    "from matplotlib import gridspec\n",
    "import plotly.io as pio\n",
    "import seaborn as sns\n",
    "import warnings\n",
    "plt.style.use('seaborn')\n",
    "warnings.filterwarnings('ignore')\n",
    "pio.renderers.default = 'iframe' # or 'notebook' or 'colab' or 'jupyterlab'"
   ]
  },
  {
   "cell_type": "code",
   "execution_count": 2,
   "id": "475bd9a1-55f5-4861-a190-aeeee55104ca",
   "metadata": {},
   "outputs": [],
   "source": [
    "#get correct columns names\n",
    "cols = pd.read_csv('/scratch4/jluo2/drabiza1/ICI_data/BQSR_BAM/columns.txt', sep = '\\t', header = None)\n",
    "cols = cols.loc[0]\n",
    "cols = list(cols)[9:]\n",
    "samples = pd.read_csv('PaperON/samples.txt', sep = '\\n', header = None)\n",
    "samps = list(samples[0])"
   ]
  },
  {
   "cell_type": "code",
   "execution_count": 3,
   "id": "1f478cfc-f0cd-4f12-b4b2-a6fca4f591a7",
   "metadata": {},
   "outputs": [],
   "source": [
    "dup74 = np.load('dup74.npy')"
   ]
  },
  {
   "cell_type": "code",
   "execution_count": 28,
   "id": "7ab33281-f534-4475-960a-329fe11a607b",
   "metadata": {},
   "outputs": [],
   "source": [
    "#np.save('Manuscript_Exome/BP_files/Annovar_Edit/GATK_BP_COLS.npy',array(list(new_rename_cols.values())))"
   ]
  },
  {
   "cell_type": "markdown",
   "id": "90ed524b-aa94-4823-a58d-5e944ee6609c",
   "metadata": {},
   "source": [
    "# Filtering & Making Truth Sets"
   ]
  },
  {
   "cell_type": "code",
   "execution_count": 15,
   "id": "3480ab62-1542-40a0-a096-a863fa70d436",
   "metadata": {},
   "outputs": [],
   "source": [
    "vcf_header = ['CHROM',  'POS', 'ID',  'REF' , 'ALT' ,'QUAL' ,'FILTER' ,'INFO' , 'FORMAT' , 'SAMPLE']"
   ]
  },
  {
   "cell_type": "code",
   "execution_count": 49,
   "id": "368aaa39-179f-4bd3-aa23-cbfa2c37286f",
   "metadata": {},
   "outputs": [],
   "source": [
    "def get_sor(x):\n",
    "    return(float(x.split('SOR=')[1].split(';')[0]))\n",
    "def get_FS(x):\n",
    "    return(float(x.split('FS=')[1].split(';')[0]))\n",
    "def get_MQ(x):\n",
    "    return(float(x.split('MQ=')[1].split(';')[0]))\n",
    "def get_QD(x):\n",
    "    return(float(x.split('QD=')[1].split(';')[0]))\n",
    "def get_MQRankSum(x):\n",
    "    try: \n",
    "        return(float(x.split('MQRankSum=')[1].split(';')[0]))\n",
    "    except: \n",
    "        return 0\n",
    "def get_GQ(x):\n",
    "    try: \n",
    "        return int(x.split(':')[-2])\n",
    "    except: \n",
    "        return 0\n",
    "def get_AF(x):\n",
    "    return(float(x.split('AF=')[1].split(';')[0]))"
   ]
  },
  {
   "cell_type": "markdown",
   "id": "010c8b71-d6e7-42c1-bfca-d308ea868592",
   "metadata": {},
   "source": [
    "# Make Truth Sets"
   ]
  },
  {
   "cell_type": "code",
   "execution_count": 37,
   "id": "cdabff94-a475-45e9-a380-2654db8eff51",
   "metadata": {},
   "outputs": [],
   "source": [
    "repeats = np.load('Manuscript_Exome/Pileup/repeat_errors.npy')\n",
    "supdups = np.load('Manuscript_Exome/Pileup/supdups.npy')\n",
    "DV_repeats = np.load('Manuscript_Exome/Pileup/repeat_errors.npy')\n",
    "DV_supdups = np.load('Manuscript_Exome/Pileup/supdups.npy')"
   ]
  },
  {
   "cell_type": "code",
   "execution_count": null,
   "id": "df3cb3c7-c559-4186-873d-cb09d821b720",
   "metadata": {},
   "outputs": [],
   "source": [
    "for i in {59..73}; \n",
    "do  cd Rep$i ;\n",
    "bcftools view tp-baseline.vcf.gz -R /scratch4/jluo2/drabiza1/ICI_data/hg19_Exome_splice.bed -O z -o filt.tp-baseline.vcf.gz; \n",
    "bcftools view fp.vcf.gz -R /scratch4/jluo2/drabiza1/ICI_data/hg19_Exome_splice.bed -O z -o filt.fp.vcf.gz; \n",
    "bcftools view fn.vcf.gz -R /scratch4/jluo2/drabiza1/ICI_data/hg19_Exome_splice.bed -O z -o filt.fn.vcf.gz; \n",
    "cd ..; echo $i ; done"
   ]
  },
  {
   "cell_type": "code",
   "execution_count": null,
   "id": "003563ae-45e8-4a42-abd0-d003a97641a8",
   "metadata": {},
   "outputs": [],
   "source": [
    "#move old folders\n",
    "for i in range(59, 74):\n",
    "    os.system('mv Manuscript_Exome/Combined_VCFEVAL/Rep{} Manuscript_Exome/Combined_VCFEVAL/TRIPS_QUADS/'.format(i) )"
   ]
  },
  {
   "cell_type": "code",
   "execution_count": null,
   "id": "9cd15d10-eb4f-4cd7-a726-093b0413e276",
   "metadata": {
    "tags": []
   },
   "outputs": [],
   "source": [
    "for Rep in range(59,74):\n",
    "    all_df = pd.DataFrame()\n",
    "    #low_cov = np.load('Manuscript_Exome/Pileup/LowCov/Rep{}.npy'.format(str(Rep)))\n",
    "    for file in ['filt.fn.vcf.gz', 'filt.tp-baseline.vcf.gz', 'filt.fp.vcf.gz']: #filtered for exome only \n",
    "        df = pd.read_csv('Manuscript_Exome/Combined_VCFEVAL/Rep{}/{}'.format( Rep,file), sep ='\\t', comment = '#', header = None)\n",
    "        df.columns = vcf_header\n",
    "        df = df.set_index(df['CHROM']+'_'+df['POS'].astype(str))\n",
    "        #remove_low_cov = list(set(low_cov).intersection(list(df.index)))\n",
    "        #df = df.drop(remove_low_cov)\n",
    "        remove_supdups = list(set(supdups).intersection(list(df.index)))\n",
    "        df = df.drop(remove_supdups)\n",
    "        remove_repeats = list(set(repeats).intersection(list(df.index)))\n",
    "        df = df.drop(remove_repeats)\n",
    "        #again for DV\n",
    "        remove_supdups = list(set(DV_supdups).intersection(list(df.index)))\n",
    "        df = df.drop(remove_supdups)\n",
    "        remove_repeats = list(set(DV_repeats).intersection(list(df.index)))\n",
    "        df = df.drop(remove_repeats)\n",
    "        if file == 'filt.fn.vcf.gz':\n",
    "            df[~df['INFO'].str.contains('NEGATIVE')]\n",
    "            df = df[df['INFO'].apply(get_sor)<3]\n",
    "            df = df[df['INFO'].apply(get_FS)<10]\n",
    "            #df = df[df['INFO'].apply(get_QD)>3]\n",
    "            #df = df[df['INFO'].apply(get_MQRankSum)>-1.5]\n",
    "            #df = df[df['FILTER']=='PASS']\n",
    "        all_df = pd.concat([all_df,df ])\n",
    "    all_df = all_df.sort_values(['CHROM', 'POS'])\n",
    "    head = pd.read_csv('Manuscript_Exome/FULL_GATK_Header.txt', sep ='\\n', header = None)\n",
    "    head = '\\n'.join(list(head[0]))\n",
    "    head = head.replace('46A', 'Rep'+str(Rep))\n",
    "    output_VCF = \"Manuscript_Exome/Combined_VCFEVAL/Baseline/Rep{}.vcf\".format(str(Rep))\n",
    "    with open(output_VCF, 'w') as vcf:\n",
    "        vcf.write(head+'\\n')\n",
    "    all_df.to_csv(output_VCF, sep=\"\\t\", mode='a', index=False, header = None)\n",
    "    print('Rep'+str(Rep))\n"
   ]
  },
  {
   "cell_type": "markdown",
   "id": "7ce2d8c4-d14f-4e65-b164-17fe4ace7b53",
   "metadata": {},
   "source": [
    "### Make Pileups"
   ]
  },
  {
   "cell_type": "code",
   "execution_count": null,
   "id": "535c243a-33ed-46d0-9efb-eec1600cd1bd",
   "metadata": {},
   "outputs": [],
   "source": [
    "- I have to go though each one of the discordant calls and remove it if the corresponding call's coverage is less than X\n",
    "- I think I'll have to do it through merging the calls without RTG\n"
   ]
  },
  {
   "cell_type": "code",
   "execution_count": 35,
   "id": "c5d3686e-ea45-47d7-9906-7fb88b0b0c61",
   "metadata": {},
   "outputs": [],
   "source": [
    "df = pd.read_csv('Manuscript_Exome/DV_JG/VCF/105A_S66_final.bam.vcf.gz', sep = '\\t',\n",
    "                 comment = '#', header = None)\n",
    "df.columns = vcf_header\n",
    "df = df.set_index('ID')\n",
    "df = df.rename(columns ={'SAMPLE':100})\n",
    "df1 = pd.read_csv('Manuscript_Exome/DV_JG/VCF/100A_S63_final.bam.vcf.gz', sep = '\\t',\n",
    "                 comment = '#', header = None)\n",
    "df1.columns = vcf_header\n",
    "df1 = df1.set_index('ID')\n",
    "df1 = df1.rename(columns ={'SAMPLE':101})"
   ]
  },
  {
   "cell_type": "markdown",
   "id": "98bbc5ac-2c76-448a-a794-1bacc6440da9",
   "metadata": {},
   "source": [
    "# Low Cov for Gatk and DV\n",
    "- Add 0 coverage \n"
   ]
  },
  {
   "cell_type": "code",
   "execution_count": 117,
   "id": "487e3a44-d162-4a34-a349-e1778a26fcd6",
   "metadata": {
    "tags": []
   },
   "outputs": [],
   "source": [
    "#DV Pileup with GATK calls \n",
    "DV_delete = {}\n",
    "for group_num, group in enumerate(dup74): \n",
    "    group_remove = []\n",
    "    for sample in group: \n",
    "        df = pd.read_csv('Manuscript_Exome/Pileup/DV_Pileups/{}.txt'.format(sample.split('.vcf')[0]), \n",
    "                                    sep = '\\t', header = None, usecols = [0,1,3])\n",
    "        check_df = pd.read_csv('Manuscript_Exome/GATK_VCFEVAL/VCF_Replicates/filt.{}'.format(sample), sep = '\\t', comment = '#', header = None)\n",
    "        pile_index = list(df[0]+'_'+df[1].astype(str))\n",
    "        call_index = list(check_df[0]+'_'+check_df[1].astype(str))\n",
    "        ind_remove = []\n",
    "        for i in pile_index: \n",
    "            if i not in call_index: \n",
    "                ind_remove.append(i)\n",
    "        df = df.set_index(df[0]+'_'+df[1].astype(str))\n",
    "        ind = df.loc[ind_remove][3]<10\n",
    "        group_remove = group_remove+list(ind[ind].index)\n",
    "        #remove Zeroes\n",
    "        df = pd.read_csv('Manuscript_Exome/Pileup/DV_Lists/{}.list'.format(sample.split('.vcf')[0]), sep ='\\t', header = None)\n",
    "        df = df.set_index(df[0]+'_'+df[1].astype(str))\n",
    "        remove_zerocov = []\n",
    "        for i in df.index: \n",
    "            if i not in pile_index:\n",
    "                remove_zerocov.append(i)\n",
    "        group_remove = group_remove + remove_zerocov        \n",
    "    DV_delete[group_num] = group_remove "
   ]
  },
  {
   "cell_type": "code",
   "execution_count": 138,
   "id": "1b11aa76-560c-4352-b286-d36a5a4e2508",
   "metadata": {},
   "outputs": [],
   "source": [
    "#GATK Pileup with DV calls \n",
    "GATK_delete = {}\n",
    "for group_num, group in enumerate(dup74): \n",
    "    group_remove = []\n",
    "    for sample in group: \n",
    "        df = pd.read_csv('Manuscript_Exome/Pileup/GATK_Pileups/{}.txt'.format(sample.split('.vcf')[0]), \n",
    "                                    sep = '\\t', header = None, usecols = [0,1,3])\n",
    "        check_df = pd.read_csv('Manuscript_Exome/DV_JG/VCF/filt.{}'.format(sample), sep = '\\t', comment = '#', header = None)\n",
    "        pile_index = list(df[0]+'_'+df[1].astype(str))\n",
    "        call_index = list(check_df[0]+'_'+check_df[1].astype(str))\n",
    "        ind_remove = []\n",
    "        for i in pile_index: \n",
    "            if i not in call_index: \n",
    "                ind_remove.append(i)\n",
    "        df = df.set_index(df[0]+'_'+df[1].astype(str))\n",
    "        ind = df.loc[ind_remove][3]<10\n",
    "        group_remove = group_remove+list(ind[ind].index)\n",
    "        #remove Zeroes\n",
    "        df = pd.read_csv('Manuscript_Exome/Pileup/GATK_Lists/{}.list'.format(sample.split('.vcf')[0]), sep ='\\t', header = None)\n",
    "        df = df.set_index(df[0]+'_'+df[1].astype(str))\n",
    "        remove_zerocov = []\n",
    "        for i in df.index: \n",
    "            if i not in pile_index:\n",
    "                remove_zerocov.append(i)\n",
    "        group_remove = group_remove + remove_zerocov \n",
    "    GATK_delete[group_num] = group_remove "
   ]
  },
  {
   "cell_type": "code",
   "execution_count": 140,
   "id": "706a7edd-9929-4de6-8009-34eb980908b2",
   "metadata": {},
   "outputs": [],
   "source": [
    "#Combine\n",
    "low_cov_ind = {}\n",
    "for i in range(len(dup74)):\n",
    "    low_cov_ind[i] = unique(GATK_delete[i]+DV_delete[i])"
   ]
  },
  {
   "cell_type": "code",
   "execution_count": 141,
   "id": "307d1538-f534-4d93-97b6-50aa34b5b029",
   "metadata": {},
   "outputs": [],
   "source": [
    "#import superdups\n",
    "GATK_supdups = np.load('Manuscript_Exome/Pileup/supdups.npy')\n",
    "DV_supdups = np.load('Manuscript_Exome/Pileup/supdups.npy')\n",
    "\n",
    "GATK_repeats = np.load('Manuscript_Exome/Pileup/repeat_errors.npy')\n",
    "DV_repeats = np.load('Manuscript_Exome/Pileup/repeat_errors.npy')\n",
    "\n",
    "vcf_header = ['CHROM',  'POS', 'ID',  'REF' , 'ALT' ,'QUAL' ,'FILTER' ,'INFO' , 'FORMAT' , 'SAMPLE']"
   ]
  },
  {
   "cell_type": "markdown",
   "id": "f394ad02-e1a6-4b84-aec8-c28416dde445",
   "metadata": {},
   "source": [
    "# Call set "
   ]
  },
  {
   "cell_type": "code",
   "execution_count": null,
   "id": "6a243e36-f9b1-4d8d-9d55-f0663b79d49b",
   "metadata": {},
   "outputs": [],
   "source": [
    "#DV - Make Callset\n",
    "for ind, group in enumerate(dup74[59:]): \n",
    "    ind = ind+59\n",
    "    low_cov = low_cov_ind[ind]\n",
    "    for sample in group: \n",
    "        df = pd.read_csv('Manuscript_Exome/DV_JG/VCF/filt.{}'.format(sample), sep ='\\t', comment = '#', header = None)\n",
    "        df.columns = vcf_header\n",
    "        df = df.set_index(df['CHROM']+'_'+df['POS'].astype(str))\n",
    "        a = time.time()\n",
    "        group_low_cov = unique(list(group_remove[ind])+list(low_cov))\n",
    "        remove_low_cov = list(set(group_low_cov).intersection(list(df.index)))\n",
    "        df = df.drop(remove_low_cov)\n",
    "        remove_sup_dups = list(set(DV_supdups).intersection(list(df.index)))\n",
    "        df = df.drop(remove_sup_dups)\n",
    "        remove_repeats = list(set(DV_repeats).intersection(list(df.index)))\n",
    "        df = df.drop(remove_repeats)\n",
    "        print(time.time() - a)\n",
    "            #elif i in repeats: \n",
    "            #    remove_ind.append(i)\n",
    "        head = pd.read_csv('Manuscript_Exome/FULL_DV_Header.txt', sep ='\\n', header = None)\n",
    "        head = '\\n'.join(list(head[0]))\n",
    "        head = head.replace('456', str(ind))\n",
    "        output_VCF = \"Manuscript_Exome/Combined_VCFEVAL/DV_Callset/{}\".format(sample.split('.gz')[0])\n",
    "        with open(output_VCF, 'w') as vcf:\n",
    "            vcf.write(head+'\\n')\n",
    "        df.to_csv(output_VCF, sep=\"\\t\", mode='a', index=False, header = None)\n",
    "        print(sample)\n",
    "        \n",
    "        "
   ]
  },
  {
   "cell_type": "code",
   "execution_count": null,
   "id": "71ef27ee-9a77-4833-beb2-fdde4eff79b0",
   "metadata": {},
   "outputs": [],
   "source": [
    "#GATK\n",
    "for ind, group in enumerate(dup74[59:]): \n",
    "    ind = ind+59\n",
    "    low_cov = low_cov_ind[ind]\n",
    "    for sample in group: \n",
    "        df = pd.read_csv('Manuscript_Exome/GATK_VCFEVAL/VCF_Replicates/filt.{}'.format(sample), sep ='\\t', comment = '#', header = None)\n",
    "        df.columns = vcf_header\n",
    "        df = df.set_index(df['CHROM']+'_'+df['POS'].astype(str))\n",
    "        a = time.time()\n",
    "        group_low_cov = unique(list(group_remove[ind])+list(low_cov))\n",
    "        remove_low_cov = list(set(group_low_cov).intersection(list(df.index)))\n",
    "        df = df.drop(remove_low_cov)\n",
    "        remove_sup_dups = list(set(GATK_supdups).intersection(list(df.index)))\n",
    "        df = df.drop(remove_sup_dups)\n",
    "        remove_repeats = list(set(GATK_repeats).intersection(list(df.index)))\n",
    "        df = df.drop(remove_repeats)\n",
    "        print(time.time() - a)\n",
    "            #elif i in repeats: \n",
    "            #    remove_ind.append(i)\n",
    "        head = pd.read_csv('Manuscript_Exome/FULL_GATK_Header.txt', sep ='\\n', header = None)\n",
    "        head = '\\n'.join(list(head[0]))\n",
    "        head = head.replace('46A', str(ind))\n",
    "        output_VCF = \"Manuscript_Exome/Combined_VCFEVAL/GATK_Callset/{}\".format(sample.split('.gz')[0])\n",
    "        with open(output_VCF, 'w') as vcf:\n",
    "            vcf.write(head+'\\n')\n",
    "        df.to_csv(output_VCF, sep=\"\\t\", mode='a', index=False, header = None)\n",
    "        print(sample)\n",
    "        \n",
    "        "
   ]
  },
  {
   "cell_type": "markdown",
   "id": "a92bb660-6ad4-4b7c-b603-4511bac8501b",
   "metadata": {},
   "source": [
    "# Training set \n",
    "- Which callers \n",
    "- SNP or INDEL , Length of Indel\n",
    "- Bases [0,1,2,3]\n",
    "- AD, DP, GQ, GT , VAF\n",
    "- FS, SOR, QD, MQRankSum\n",
    "- QUAL, FILTER \n",
    "\n"
   ]
  },
  {
   "cell_type": "code",
   "execution_count": 18,
   "id": "8419bbb7-dcf7-48b6-8bf3-131d41bf37b0",
   "metadata": {},
   "outputs": [],
   "source": [
    "def Format_DF_GATK(path, low_cov, caller ):\n",
    "    df = pd.read_csv(path, sep = '\\t', comment= '#', header = None)\n",
    "    temp = df[0]+'_'+df[1].astype(str)\n",
    "    df = df[np.invert(temp.isin(low_cov))]\n",
    "    Train = pd.DataFrame()\n",
    "    Train['SNP_INDEL'] = df[3].apply(len) - df[4].apply(len)\n",
    "    status = df[6]=='PASS'\n",
    "    Train['Filter']= status.replace(True,0).replace(False,1)\n",
    "    status = df[7].str.contains('NEGATIVE')\n",
    "    Train['Negative'] = status.replace(True,0).replace(False,1)\n",
    "    status = df[7].str.contains('POSITIVE')\n",
    "    Train['Positive'] = status.replace(True,0).replace(False,1)\n",
    "    Train['Qual'] = df[5]\n",
    "    Train['SOR'] = df[7].apply(get_sor)\n",
    "    Train['FS'] = df[7].apply(get_FS)\n",
    "    Train['QD'] = df[7].apply(get_QD)\n",
    "    Train['FS'] = df[7].apply(get_FS)\n",
    "    Train['MQRANK'] = df[7].apply(get_MQRankSum)\n",
    "    Train = pd.concat([Train,df[9].str.split(':', expand=True)[[0,2,3]].rename(columns={0:'GT',\n",
    "                                                                                        2:'DP', 3:'GQ'}) ], axis =1)\n",
    "    Train = pd.concat([Train,df[9].str.split(':', expand=True)[[1]][1].str.split(',', \n",
    "                                                                     expand=True).rename(columns={0:'RD', 1:'AD'})],\n",
    "                       axis =1)\n",
    "    Train['GT'] = Train['GT'].replace('0/1', 0).replace('0|1', 0).replace('1/1',\n",
    "                    1).replace('1|1', 1).replace('1/0', 0).replace('1|0', '0')\n",
    "    Train = Train.astype(float)\n",
    "    Train['VAF'] = Train['AD']/Train['DP']\n",
    "    Train['Caller'] = [caller for i in range(Train.shape[0])]\n",
    "    return Train"
   ]
  },
  {
   "cell_type": "code",
   "execution_count": 19,
   "id": "d1ecdc40-8110-4850-97df-5e5dbca0583e",
   "metadata": {},
   "outputs": [],
   "source": [
    "def Format_DF_DV(path,low_cov, caller ):\n",
    "    df = pd.read_csv(path, sep = '\\t', comment= '#', header = None)\n",
    "    temp = df[0]+'_'+df[1].astype(str)\n",
    "    df = df[np.invert(temp.isin(low_cov))]\n",
    "    Train = pd.DataFrame()\n",
    "    Train['SNP_INDEL'] = df[3].apply(len) - df[4].apply(len)\n",
    "    Train['Qual'] = df[5]\n",
    "    Train['AQ'] = df[7].str.split(';', expand=True)[1].str.split('=', expand=True)[1]\n",
    "    Train = pd.concat([Train,df[9].str.split(':', expand=True)[[0,1,3]].rename(columns={0:'GT',\n",
    "                                                                                        1:'DP', 3:'GQ'}) ], axis =1)\n",
    "    Train = pd.concat([Train,df[9].str.split(':', expand=True)[2].str.split(',', \n",
    "                                                                     expand=True).rename(columns={0:'RD', 1:'AD'})],\n",
    "                       axis =1)\n",
    "    Train['GT'] = Train['GT'].replace('0/1', 0).replace('0|1', 0).replace('1/1',\n",
    "                    1).replace('1|1', 1).replace('1/0', 0).replace('1|0', 0).replace('./1', 1 )\n",
    "    Train = Train.replace('.', 0)\n",
    "    Train = Train.astype(float)\n",
    "    Train['VAF'] = Train['AD']/Train['DP']\n",
    "    Train['Caller'] = [caller for i in range(Train.shape[0])]\n",
    "    return Train"
   ]
  },
  {
   "cell_type": "markdown",
   "id": "47cabb4e-56c1-4ca3-8bff-e722e3d17339",
   "metadata": {},
   "source": [
    "Looks like for DV will need more samples because there are fewer variants "
   ]
  },
  {
   "cell_type": "markdown",
   "id": "2f22b659-66de-4812-a1dc-064e4073ed6c",
   "metadata": {},
   "source": [
    "### Make Training and Test sets"
   ]
  },
  {
   "cell_type": "code",
   "execution_count": null,
   "id": "7508702e-c543-4f63-9b7e-7b35da6d3e06",
   "metadata": {},
   "outputs": [],
   "source": [
    "#Train \n",
    "#Take groups - vcfeval them and then take each against the Truth set \n",
    "\n",
    "cnt = 0 \n",
    "for i in re_order[0:20]:\n",
    "    samp = i[0]\n",
    "    command = \"rtg vcfeval -b GATK_Callset/{} -c DV_Callset/{} --all-records --squash-ploidy --no-roc -t /scratch4/jluo2/drabiza1/ICI_data/Manuscript_Exome/hg19_SDF/ -o TRAIN/{}\".format(\n",
    "    samp, samp, cnt )\n",
    "    cnt+=1\n",
    "    os.system(\"cd Manuscript_Exome/Combined_VCFEVAL/; sbatch -t 00:10:00 --wrap='ml anaconda; conda activate bio;{}'\".format(command))\n",
    "    "
   ]
  },
  {
   "cell_type": "code",
   "execution_count": null,
   "id": "949dcb51-1ee7-4042-9cfe-c3f550f93d10",
   "metadata": {},
   "outputs": [],
   "source": [
    "#Train\n",
    "cnt = 0 \n",
    "group=0\n",
    "for i in re_order[0:20]:\n",
    "    \n",
    "    samp = i[0]\n",
    "    command = \"rtg vcfeval -b Baseline/Rep{}.vcf.gz -c TRAIN/{}/tp-baseline.vcf.gz --all-records --squash-ploidy --no-roc -t /scratch4/jluo2/drabiza1/ICI_data/Manuscript_Exome/hg19_SDF/ -o TRAIN/{}_tp\".format(\n",
    "    group, cnt ,cnt)\n",
    "    os.system(\"cd Manuscript_Exome/Combined_VCFEVAL/;sbatch -t 00:10:00 --wrap='ml anaconda; conda activate bio;{}'\".format(command))\n",
    "    command = \"rtg vcfeval -b Baseline/Rep{}.vcf.gz -c TRAIN/{}/fn.vcf.gz --all-records --squash-ploidy --no-roc -t /scratch4/jluo2/drabiza1/ICI_data/Manuscript_Exome/hg19_SDF/ -o TRAIN/{}_fn\".format(\n",
    "    group, cnt ,cnt)\n",
    "    os.system(\"cd Manuscript_Exome/Combined_VCFEVAL/;sbatch -t 00:10:00 --wrap='ml anaconda; conda activate bio;{}'\".format(command))\n",
    "    command = \"rtg vcfeval -b Baseline/Rep{}.vcf.gz -c TRAIN/{}/fp.vcf.gz --all-records --squash-ploidy --no-roc -t /scratch4/jluo2/drabiza1/ICI_data/Manuscript_Exome/hg19_SDF/ -o TRAIN/{}_fp\".format(\n",
    "    group, cnt ,cnt)\n",
    "    os.system(\"cd Manuscript_Exome/Combined_VCFEVAL/;sbatch -t 00:10:00 --wrap='ml anaconda; conda activate bio;{}'\".format(command))\n",
    "    cnt+=1\n",
    "    group+=1\n",
    "    "
   ]
  },
  {
   "cell_type": "code",
   "execution_count": null,
   "id": "cd9d23d5-b7f9-433a-b412-16bde79a0426",
   "metadata": {},
   "outputs": [],
   "source": [
    "#Test\n",
    "cnt = 5\n",
    "for i in re_order[7:12]:\n",
    "    cnt+=1\n",
    "    samp = i[0]\n",
    "    command = \"rtg vcfeval -b GATK_Callset/{} -c DV_Callset/{} --all-records --squash-ploidy --no-roc -t /scratch4/jluo2/drabiza1/ICI_data/Manuscript_Exome/hg19_SDF/ -o TRAIN/{}\".format(\n",
    "    samp, samp, cnt )\n",
    "    print(command)"
   ]
  },
  {
   "cell_type": "code",
   "execution_count": null,
   "id": "b5c196b2-acd9-4514-baae-d5213193a86f",
   "metadata": {},
   "outputs": [],
   "source": [
    "#Test\n",
    "cnt = 5\n",
    "group=7\n",
    "for i in re_order[7:12]:\n",
    "    cnt+=1\n",
    "    samp = i[0]\n",
    "    command = \"rtg vcfeval -b Baseline/Rep{}.vcf.gz -c TRAIN/{}/tp-baseline.vcf.gz --all-records --squash-ploidy --no-roc -t /scratch4/jluo2/drabiza1/ICI_data/Manuscript_Exome/hg19_SDF/ -o TRAIN/{}_tp\".format(\n",
    "    group, cnt ,cnt)\n",
    "    print(command)\n",
    "    command = \"rtg vcfeval -b Baseline/Rep{}.vcf.gz -c TRAIN/{}/fn.vcf.gz --all-records --squash-ploidy --no-roc -t /scratch4/jluo2/drabiza1/ICI_data/Manuscript_Exome/hg19_SDF/ -o TRAIN/{}_fn\".format(\n",
    "    group, cnt ,cnt)\n",
    "    print(command)\n",
    "    command = \"rtg vcfeval -b Baseline/Rep{}.vcf.gz -c TRAIN/{}/fp.vcf.gz --all-records --squash-ploidy --no-roc -t /scratch4/jluo2/drabiza1/ICI_data/Manuscript_Exome/hg19_SDF/ -o TRAIN/{}_fp\".format(\n",
    "    group, cnt ,cnt)\n",
    "    print(command)\n",
    "    group+=1\n",
    "    "
   ]
  },
  {
   "cell_type": "markdown",
   "id": "e0f19619-85d5-401d-b789-e78c27459066",
   "metadata": {},
   "source": [
    "# GATK - import train and test "
   ]
  },
  {
   "cell_type": "code",
   "execution_count": 20,
   "id": "9ad17896-d429-45aa-990e-d5260e1a97c2",
   "metadata": {
    "tags": []
   },
   "outputs": [],
   "source": [
    "#GATK\n",
    "#LETS ONLY FILTLER GATK ONLY and DV ONLY\n",
    "#for i in re_order[2:7]:\n",
    "True_df = pd.DataFrame()\n",
    "False_df = pd.DataFrame()\n",
    "group=0\n",
    "for i in range(0,10):\n",
    "    low_cov = low_cov_ind[group]\n",
    "    string = 'Manuscript_Exome/Combined_VCFEVAL/TRAIN/{}_fn/tp.vcf.gz'.format(i)\n",
    "    df = Format_DF_GATK(string,low_cov,1)\n",
    "    True_df = pd.concat([True_df, df])\n",
    "    string = 'Manuscript_Exome/Combined_VCFEVAL/TRAIN/{}_fn/fp.vcf.gz'.format(i)\n",
    "    df = Format_DF_GATK(string,low_cov,1)\n",
    "    False_df = pd.concat([False_df, df])\n",
    "    group+=1\n",
    "y = [0 for i in range(True_df.shape[0])] + [1 for i in range(False_df.shape[0])]\n",
    "X = pd.concat([True_df, False_df])\n",
    "X = X.to_numpy()    "
   ]
  },
  {
   "cell_type": "code",
   "execution_count": 21,
   "id": "21d64c94-e599-4619-acda-f637fe0804ea",
   "metadata": {},
   "outputs": [],
   "source": [
    "#GATK - TEST\n",
    "True_df = pd.DataFrame()\n",
    "False_df = pd.DataFrame()\n",
    "group=10\n",
    "for i in range(10,20):\n",
    "    low_cov = low_cov_ind[group]\n",
    "    string = 'Manuscript_Exome/Combined_VCFEVAL/TRAIN/{}_fn/tp.vcf.gz'.format(i)\n",
    "    df = Format_DF_GATK(string,low_cov,1)\n",
    "    True_df = pd.concat([True_df, df])\n",
    "    string = 'Manuscript_Exome/Combined_VCFEVAL/TRAIN/{}_fn/fp.vcf.gz'.format(i)\n",
    "    df = Format_DF_GATK(string,low_cov,1)\n",
    "    False_df = pd.concat([False_df, df])\n",
    "    group+=1\n",
    "y_test = [0 for i in range(True_df.shape[0])] + [1 for i in range(False_df.shape[0])]\n",
    "X_test = pd.concat([True_df, False_df])\n",
    "X_test = X_test.fillna(0)\n",
    "X_test = X_test.to_numpy()    "
   ]
  },
  {
   "cell_type": "markdown",
   "id": "30cb8733-ea59-4ec9-92d6-237d3b3d3eb9",
   "metadata": {},
   "source": [
    "# DV - import train and test"
   ]
  },
  {
   "cell_type": "code",
   "execution_count": 22,
   "id": "715e0320-d704-49dc-a7d8-e79fa48810eb",
   "metadata": {
    "tags": []
   },
   "outputs": [],
   "source": [
    "#DV\n",
    "#LETS ONLY FILTLER GATK ONLY and DV ONLY\n",
    "#for i in re_order[2:7]:\n",
    "True_df = pd.DataFrame()\n",
    "False_df = pd.DataFrame()\n",
    "group=0\n",
    "for i in range(0,15):\n",
    "    low_cov = low_cov_ind[group]\n",
    "    string = 'Manuscript_Exome/Combined_VCFEVAL/TRAIN/{}_fp/tp.vcf.gz'.format(i)\n",
    "    df = Format_DF_DV(string,low_cov,1)\n",
    "    True_df = pd.concat([True_df, df])\n",
    "    string = 'Manuscript_Exome/Combined_VCFEVAL/TRAIN/{}_fp/fp.vcf.gz'.format(i)\n",
    "    df = Format_DF_DV(string,low_cov,1)\n",
    "    False_df = pd.concat([False_df, df])\n",
    "    group+=1\n",
    "y_dv = [0 for i in range(True_df.shape[0])] + [1 for i in range(False_df.shape[0])]\n",
    "X_dv = pd.concat([True_df, False_df])\n",
    "X_dv = X_dv.to_numpy()    "
   ]
  },
  {
   "cell_type": "code",
   "execution_count": 23,
   "id": "d6368c75-da55-4953-9fd7-f89092a3ba84",
   "metadata": {},
   "outputs": [],
   "source": [
    "#DV - TEST\n",
    "True_df = pd.DataFrame()\n",
    "False_df = pd.DataFrame()\n",
    "group=15\n",
    "for i in range(15,20):\n",
    "    low_cov = low_cov_ind[group]\n",
    "    string = 'Manuscript_Exome/Combined_VCFEVAL/TRAIN/{}_fp/tp.vcf.gz'.format(i)\n",
    "    df = Format_DF_DV(string,low_cov,1)\n",
    "    True_df = pd.concat([True_df, df])\n",
    "    string = 'Manuscript_Exome/Combined_VCFEVAL/TRAIN/{}_fp/fp.vcf.gz'.format(i)\n",
    "    df = Format_DF_DV(string,low_cov,1)\n",
    "    False_df = pd.concat([False_df, df])\n",
    "    group+=1\n",
    "y_dv_test = [0 for i in range(True_df.shape[0])] + [1 for i in range(False_df.shape[0])]\n",
    "X_dv_test = pd.concat([True_df, False_df])\n",
    "X_dv_test = X_dv_test.to_numpy()    "
   ]
  },
  {
   "cell_type": "code",
   "execution_count": 26,
   "id": "c9b5bbcd-1030-4279-8a6d-4a3fa5ec6dd1",
   "metadata": {},
   "outputs": [
    {
     "name": "stdout",
     "output_type": "stream",
     "text": [
      "False\n",
      "False\n",
      "False\n",
      "False\n",
      "True\n"
     ]
    }
   ],
   "source": [
    "var = 'chr8_145170704'\n",
    "low_cov = low_cov_ind[0]\n",
    "print(var in GATK_supdups)\n",
    "print(var in DV_supdups)\n",
    "print(var in DV_repeats)\n",
    "print(var in GATK_repeats)\n",
    "print(var in low_cov)"
   ]
  },
  {
   "cell_type": "markdown",
   "id": "0ff0696a-356f-437f-9756-d36a4d2d953b",
   "metadata": {},
   "source": [
    "# Random Forest"
   ]
  },
  {
   "cell_type": "code",
   "execution_count": 28,
   "id": "f55ec857-b127-4e5d-85f2-15f7b68c5408",
   "metadata": {},
   "outputs": [],
   "source": [
    "from sklearn.ensemble import RandomForestClassifier\n",
    "from sklearn.datasets import make_classification\n",
    "#X, y = make_classification(n_samples=1000, n_features=4,\n",
    "#                           n_informative=2, n_redundant=0,\n",
    "#                           random_state=0, shuffle=False)\n"
   ]
  },
  {
   "cell_type": "code",
   "execution_count": 33,
   "id": "2e306b2d-a517-4878-a0d1-f3a31310c3ed",
   "metadata": {
    "tags": []
   },
   "outputs": [
    {
     "name": "stdout",
     "output_type": "stream",
     "text": [
      "0.8328203155059638 2\n",
      "0.8480184686417853 3\n",
      "0.8476337052712581 4\n",
      "0.850327048864948 5\n",
      "0.8568680261639092 6\n",
      "0.8703347441323586 7\n",
      "0.8718737976144671 8\n",
      "0.8737976144671027 9\n",
      "0.8759138130050019 10\n",
      "0.8755290496344748 11\n",
      "0.8739899961523663 12\n",
      "0.8770681031165833 13\n",
      "0.8766833397460562 14\n",
      "0.873220469411312 15\n"
     ]
    }
   ],
   "source": [
    "#Choosing GATK\n",
    "#Lets say choose 7 \n",
    "for i in range(2,16):\n",
    "    GATK_clf = RandomForestClassifier(max_depth=i)\n",
    "    GATK_clf.fit(X, y)\n",
    "    print(GATK_clf.score(X_test,y_test), i )"
   ]
  },
  {
   "cell_type": "code",
   "execution_count": 32,
   "id": "9a0e3ac7-ba8a-4158-97ce-92c9c2af8dbf",
   "metadata": {
    "tags": []
   },
   "outputs": [
    {
     "name": "stdout",
     "output_type": "stream",
     "text": [
      "0.6952380952380952 2\n",
      "0.7183673469387755 3\n",
      "0.7170068027210884 4\n",
      "0.7482993197278912 5\n",
      "0.7401360544217687 6\n",
      "0.7537414965986394 7\n",
      "0.7523809523809524 8\n",
      "0.7646258503401361 9\n",
      "0.763265306122449 10\n",
      "0.7578231292517007 11\n",
      "0.7605442176870748 12\n",
      "0.7673469387755102 13\n",
      "0.7687074829931972 14\n",
      "0.7551020408163265 15\n"
     ]
    }
   ],
   "source": [
    "#Choosing DV\n",
    "for i in range(2,16):\n",
    "    DV_clf = RandomForestClassifier(max_depth=i)\n",
    "    DV_clf.fit(X_dv, y_dv)\n",
    "    print(DV_clf.score(X_dv_test,y_dv_test), i)"
   ]
  },
  {
   "cell_type": "code",
   "execution_count": 31,
   "id": "ac670900-b4b2-4bdc-b4ec-c0cbe8fff7c6",
   "metadata": {},
   "outputs": [
    {
     "name": "stdout",
     "output_type": "stream",
     "text": [
      "0.7578231292517007\n",
      "0.5265306122448979\n",
      "0.6952380952380952\n",
      "0.7278911564625851\n"
     ]
    }
   ],
   "source": [
    "from sklearn.naive_bayes import GaussianNB\n",
    "clf= GaussianNB()\n",
    "clf.fit(X_dv, y_dv)\n",
    "print(DV_clf.score(X_dv_test,y_dv_test))\n",
    "\n",
    "from sklearn.discriminant_analysis import QuadraticDiscriminantAnalysis\n",
    "clf = QuadraticDiscriminantAnalysis()\n",
    "clf.fit(X_dv, y_dv)\n",
    "print(clf.score(X_dv_test,y_dv_test))\n",
    "\n",
    "from sklearn.discriminant_analysis import LinearDiscriminantAnalysis\n",
    "clf = LinearDiscriminantAnalysis()\n",
    "clf.fit(X_dv, y_dv)\n",
    "print(clf.score(X_dv_test,y_dv_test))\n",
    "\n",
    "from sklearn.tree import DecisionTreeClassifier\n",
    "clf = DecisionTreeClassifier()\n",
    "clf.fit(X_dv, y_dv)\n",
    "print(clf.score(X_dv_test,y_dv_test))"
   ]
  },
  {
   "cell_type": "markdown",
   "id": "d705931b-93c0-496f-8a87-3dcec0d76fb1",
   "metadata": {},
   "source": [
    "# Save Model "
   ]
  },
  {
   "cell_type": "code",
   "execution_count": 36,
   "id": "ac0b2e37-8360-4c1a-9f4d-ecc757b8cab0",
   "metadata": {},
   "outputs": [
    {
     "data": {
      "text/plain": [
       "RandomForestClassifier(max_depth=7)"
      ]
     },
     "execution_count": 36,
     "metadata": {},
     "output_type": "execute_result"
    }
   ],
   "source": [
    "GATK_clf = RandomForestClassifier(max_depth=7)\n",
    "GATK_clf.fit(X, y)\n",
    "DV_clf = RandomForestClassifier(max_depth=7)\n",
    "DV_clf.fit(X_dv, y_dv)"
   ]
  },
  {
   "cell_type": "code",
   "execution_count": 35,
   "id": "4d98f628-712b-4126-853c-0975eadda9c8",
   "metadata": {},
   "outputs": [],
   "source": [
    "import pickle\n",
    "with open('Manuscript_Exome/GATK_RF.pkl','wb') as f:\n",
    "    pickle.dump(GATK_clf,f)\n",
    "with open('Manuscript_Exome/DV_RF.pkl','wb') as f:\n",
    "    pickle.dump(DV_clf,f)"
   ]
  },
  {
   "cell_type": "code",
   "execution_count": 158,
   "id": "addd21e9-6cb0-4f3f-a57f-88de33fb9a94",
   "metadata": {},
   "outputs": [],
   "source": [
    "# load\n",
    "import pickle\n",
    "with open('Manuscript_Exome/GATK_RF.pkl', 'rb') as f:\n",
    "    GATK_clf = pickle.load(f)\n",
    "with open('Manuscript_Exome/DV_RF.pkl', 'rb') as f:\n",
    "    DV_clf = pickle.load(f)"
   ]
  },
  {
   "cell_type": "markdown",
   "id": "7b55b7da-92b8-4d6a-be31-443b4ef72ac7",
   "metadata": {},
   "source": [
    "# Hybrid Model "
   ]
  },
  {
   "cell_type": "code",
   "execution_count": 153,
   "id": "ddcde6c9-5782-4e2c-942c-a8e77b0751f7",
   "metadata": {},
   "outputs": [],
   "source": [
    "def Format_DV(path):\n",
    "    df = pd.read_csv(path, sep = '\\t', comment= '#', header = None)\n",
    "    Train = pd.DataFrame()\n",
    "    Train['SNP_INDEL'] = df[3].apply(len) - df[4].apply(len)\n",
    "    Train['Qual'] = df[5]\n",
    "    Train['AQ'] = df[7].str.split(';', expand=True)[1].str.split('=', expand=True)[1]\n",
    "    Train = pd.concat([Train,df[9].str.split(':', expand=True)[[0,1,3]].rename(columns={0:'GT',\n",
    "                                                                                        1:'DP', 3:'GQ'}) ], axis =1)\n",
    "    Train = pd.concat([Train,df[9].str.split(':', expand=True)[2].str.split(',', \n",
    "                                                                     expand=True).rename(columns={0:'RD', 1:'AD'})],\n",
    "                       axis =1)\n",
    "    Train['GT'] = Train['GT'].replace('0/1', 0).replace('0|1', 0).replace('1/1',\n",
    "                    1).replace('1|1', 1).replace('1/0', 0).replace('1|0', 0).replace('./1', 1 )\n",
    "    Train = Train.replace('.', 0)\n",
    "    Train = Train.astype(float)\n",
    "    Train['VAF'] = Train['AD']/Train['DP']\n",
    "    Train['Caller'] = [1 for i in range(Train.shape[0])]\n",
    "    Train = Train.fillna(0)\n",
    "    results = DV_clf.predict(Train.to_numpy() )\n",
    "    return df.loc[where(results==0)[0]]"
   ]
  },
  {
   "cell_type": "code",
   "execution_count": 154,
   "id": "07dc9cc2-3a26-40e2-b9e1-cd6b76a4d367",
   "metadata": {},
   "outputs": [],
   "source": [
    "def Format_GATK(path):\n",
    "    df = pd.read_csv(path, sep = '\\t', comment= '#', header = None)\n",
    "    Train = pd.DataFrame()\n",
    "    Train['SNP_INDEL'] = df[3].apply(len) - df[4].apply(len)\n",
    "    status = df[6]=='PASS'\n",
    "    Train['Filter']= status.replace(True,0).replace(False,1)\n",
    "    status = df[7].str.contains('NEGATIVE')\n",
    "    Train['Negative'] = status.replace(True,0).replace(False,1)\n",
    "    status = df[7].str.contains('POSITIVE')\n",
    "    Train['Positive'] = status.replace(True,0).replace(False,1)\n",
    "    Train['Qual'] = df[5]\n",
    "    Train['SOR'] = df[7].apply(get_sor)\n",
    "    Train['FS'] = df[7].apply(get_FS)\n",
    "    Train['QD'] = df[7].apply(get_QD)\n",
    "    Train['FS'] = df[7].apply(get_FS)\n",
    "    Train['MQRANK'] = df[7].apply(get_MQRankSum)\n",
    "    Train = pd.concat([Train,df[9].str.split(':', expand=True)[[0,2,3]].rename(columns={0:'GT',\n",
    "                                                                                        2:'DP', 3:'GQ'}) ], axis =1)\n",
    "    Train = pd.concat([Train,df[9].str.split(':', expand=True)[[1]][1].str.split(',', \n",
    "                                                                     expand=True).rename(columns={0:'RD', 1:'AD'})],axis =1)\n",
    "    Train['GT'] = Train['GT'].replace('0/1', 0).replace('0|1', 0).replace('1/1',\n",
    "                    1).replace('1|1', 1).replace('1/0', 0).replace('1|0', '0')\n",
    "    Train = Train.astype(float)\n",
    "    Train['VAF'] = Train['AD']/Train['DP']\n",
    "    Train['Caller'] = [1 for i in range(Train.shape[0])]\n",
    "    Train = Train.fillna(0)\n",
    "    #predict \n",
    "    results = GATK_clf.predict(Train.to_numpy() )\n",
    "    return df.loc[where(results==0)[0]]"
   ]
  },
  {
   "cell_type": "code",
   "execution_count": 155,
   "id": "6dbe2993-c3df-4872-8a73-f1e7fc45a9d4",
   "metadata": {},
   "outputs": [],
   "source": [
    "def hybrid(gatk_samp, dv_samp, file_name, output_file):\n",
    "    #os.system('ml anaconda; conda activate bio')\n",
    "    command = \"ml anaconda; conda activate bio;rtg vcfeval -b {} -c {} --all-records --squash-ploidy --no-roc -t /scratch4/jluo2/drabiza1/ICI_data/Manuscript_Exome/hg19_SDF/ -o {}\".format(gatk_samp, dv_samp, file_name)\n",
    "    os.system(command)\n",
    "    #import each of the fp and fn with the existing function (slighlt modified), run each model. Keep the ones that are predicted to be true. \n",
    "    gatk = Format_GATK(file_name+'/fn.vcf.gz')\n",
    "    dv = Format_DV(file_name+'/fp.vcf.gz')\n",
    "    both = pd.read_csv(file_name+'/tp-baseline.vcf.gz', sep = '\\t', comment= '#', header = None)\n",
    "    all_df = pd.concat([both,gatk,dv ])\n",
    "    all_df.columns = vcf_header\n",
    "    all_df = all_df.sort_values(['CHROM', 'POS'])\n",
    "    \n",
    "    head = pd.read_csv('Manuscript_Exome/FULL_GATK_Header.txt', sep ='\\n', header = None)\n",
    "    head = '\\n'.join(list(head[0]))\n",
    "    head = head.replace('46A', file_name)\n",
    "    output_VCF = output_file+'.vcf'\n",
    "\n",
    "    with open(output_VCF, 'w') as vcf:\n",
    "        vcf.write(head+'\\n')\n",
    "    all_df.to_csv(output_VCF, sep=\"\\t\", mode='a', index=False, header = None)\n",
    "    "
   ]
  },
  {
   "cell_type": "code",
   "execution_count": null,
   "id": "4b189efb-94c0-44e7-835c-5f1bd019d387",
   "metadata": {},
   "outputs": [],
   "source": [
    "for group in dup74[59:]: \n",
    "    for sample in group: \n",
    "        hybrid('Manuscript_Exome/Combined_VCFEVAL/GATK_Callset/{}'.format(sample), \n",
    "              'Manuscript_Exome/Combined_VCFEVAL/DV_Callset/{}'.format(sample), \n",
    "              'RTG/{}'.format(sample.split('_final')[0]),\n",
    "               'Manuscript_Exome/Combined_VCFEVAL/HYBRID/{}'.format(sample.split('.vcf')[0]) )\n",
    "        print(sample)"
   ]
  },
  {
   "cell_type": "code",
   "execution_count": 175,
   "id": "a588a9eb-18b7-40e7-805d-7665daefdec9",
   "metadata": {},
   "outputs": [],
   "source": [
    "for i in range(59, 74):\n",
    "    for sample in dup74[i]:\n",
    "        os.system('rm -r Manuscript_Exome/Combined_VCFEVAL/RESULTS/*/{}'.format(sample.split('_final')[0] ))"
   ]
  },
  {
   "cell_type": "code",
   "execution_count": null,
   "id": "556b8477-883a-4d5f-852c-e852736c0b6b",
   "metadata": {},
   "outputs": [],
   "source": [
    "for num, group in enumerate(dup74[59:]): \n",
    "    num = num + 59\n",
    "    for sample in group: \n",
    "        os.system('sbatch -t 00:20:00 --wrap=\"ml anaconda; conda activate bio;rtg vcfeval -b Manuscript_Exome/Combined_VCFEVAL/Baseline/Rep{}.vcf.gz -c Manuscript_Exome/Combined_VCFEVAL/GATK_PASS/{} --all-records --squash-ploidy --no-roc -t /scratch4/jluo2/drabiza1/ICI_data/Manuscript_Exome/hg19_SDF/ -o Manuscript_Exome/Combined_VCFEVAL/RESULTS/GATK/{}\"'.format(\n",
    "        str(num),sample, sample.split('_final')[0] )) \n",
    "        os.system('sbatch -t 00:20:00 --wrap=\"ml anaconda; conda activate bio;rtg vcfeval -b Manuscript_Exome/Combined_VCFEVAL/Baseline/Rep{}.vcf.gz -c Manuscript_Exome/Combined_VCFEVAL/DV_PASS/{} --all-records --squash-ploidy --no-roc -t /scratch4/jluo2/drabiza1/ICI_data/Manuscript_Exome/hg19_SDF/ -o Manuscript_Exome/Combined_VCFEVAL/RESULTS/DV/{}\"'.format(\n",
    "        str(num),sample, sample.split('_final')[0] )) \n",
    "        os.system('sbatch -t 00:20:00 --wrap=\"ml anaconda; conda activate bio;rtg vcfeval -b Manuscript_Exome/Combined_VCFEVAL/Baseline/Rep{}.vcf.gz -c Manuscript_Exome/Combined_VCFEVAL/HYBRID/{} --all-records --squash-ploidy --no-roc -t /scratch4/jluo2/drabiza1/ICI_data/Manuscript_Exome/hg19_SDF/ -o Manuscript_Exome/Combined_VCFEVAL/RESULTS/HYBRID/{}\"'.format(\n",
    "        str(num),sample, sample.split('_final')[0] )) \n",
    "        \n",
    "        "
   ]
  },
  {
   "cell_type": "code",
   "execution_count": null,
   "id": "d2442f26-e636-4baa-b0e9-7685501a04f7",
   "metadata": {},
   "outputs": [],
   "source": [
    "for num, group in enumerate(dup74[59:]): \n",
    "    num = num + 59\n",
    "    for sample in group: \n",
    "        os.system('sbatch -t 00:20:00 --wrap=\"perl /scratch4/jluo2/drabiza1/Annovar/table_annovar.pl /scratch4/jluo2/drabiza1/ICI_data/Manuscript_Exome/Combined_VCFEVAL/DV_Callset/{} /scratch4/jluo2/drabiza1/Annovar/humandb/ -buildver hg19 -out /scratch4/jluo2/drabiza1/ICI_data/Manuscript_Exome/Combined_VCFEVAL/ANNO/PRE_DV/{} -remove -protocol refGene,clinvar_20220320,gnomad211_exome,dbnsfp42c -operation g,f,f,f -nastring . -vcfinput -polish\"'.format(sample, sample.split('_final')[0]) ) \n",
    "        os.system('sbatch -t 00:20:00 --wrap=\"perl /scratch4/jluo2/drabiza1/Annovar/table_annovar.pl /scratch4/jluo2/drabiza1/ICI_data/Manuscript_Exome/Combined_VCFEVAL/GATK_Callset/{} /scratch4/jluo2/drabiza1/Annovar/humandb/ -buildver hg19 -out /scratch4/jluo2/drabiza1/ICI_data/Manuscript_Exome/Combined_VCFEVAL/ANNO/PRE_GATK/{} -remove -protocol refGene,clinvar_20220320,gnomad211_exome,dbnsfp42c -operation g,f,f,f -nastring . -vcfinput -polish\"'.format(sample, sample.split('_final')[0]) ) \n",
    "        os.system('sbatch -t 00:20:00 --wrap=\"perl /scratch4/jluo2/drabiza1/Annovar/table_annovar.pl /scratch4/jluo2/drabiza1/ICI_data/Manuscript_Exome/Combined_VCFEVAL/HYBRID/{} /scratch4/jluo2/drabiza1/Annovar/humandb/ -buildver hg19 -out /scratch4/jluo2/drabiza1/ICI_data/Manuscript_Exome/Combined_VCFEVAL/ANNO/PRE_HYBRID/{} -remove -protocol refGene,clinvar_20220320,gnomad211_exome,dbnsfp42c -operation g,f,f,f -nastring . -vcfinput -polish\"'.format(sample, sample.split('_final')[0]) ) \n",
    "\n"
   ]
  },
  {
   "cell_type": "code",
   "execution_count": null,
   "id": "341af77f-cc7d-4915-89e6-8331e36b4f19",
   "metadata": {},
   "outputs": [],
   "source": [
    "for group in range(74):\n",
    "    num = str(group)\n",
    "    os.system('sbatch -t 00:20:00 --wrap=\"perl /scratch4/jluo2/drabiza1/Annovar/table_annovar.pl /scratch4/jluo2/drabiza1/ICI_data/Manuscript_Exome/Combined_VCFEVAL/Baseline/Rep{}.vcf.gz /scratch4/jluo2/drabiza1/Annovar/humandb/ -buildver hg19 -out /scratch4/jluo2/drabiza1/ICI_data/Manuscript_Exome/Combined_VCFEVAL/ANNO/PRE_BASELINE/Rep{} -remove -protocol refGene,clinvar_20220320,gnomad211_exome,dbnsfp42c -operation g,f,f,f -nastring . -vcfinput -polish\"'.format(num, num )) \n",
    "       "
   ]
  },
  {
   "cell_type": "code",
   "execution_count": 178,
   "id": "e016821a-5b80-47b4-bcaf-e42a2ab5309d",
   "metadata": {},
   "outputs": [],
   "source": [
    "def Rare_Pathogenic(path):\n",
    "    dv = pd.read_csv(path, sep ='\\t')\n",
    "    \n",
    "    dv = dv[dv['Func.refGene'].isin(['exonic', 'splicing'])]\n",
    "    dv = dv[np.invert(dv['CLNSIG'].str.contains('Benign'))]\n",
    "    dv = dv[np.invert(dv['CLNSIG'].str.contains('benign'))]\n",
    "    dv = dv[np.invert(dv['ExonicFunc.refGene'].str.contains('nonframeshift'))]\n",
    "    dv = dv[dv['AF'].replace('.', 0).astype(float)<.005]\n",
    "    dv = dv[dv['ExonicFunc.refGene']!='synonymous SNV']\n",
    "    keep = dv['CLNSIG'].isin(['Pathogenic', 'Pathogenic/Likely_pathogenic','Likely_pathogenic'])\n",
    "    path_ind = list(keep[keep].index)\n",
    "    drop = dv[(dv['ExonicFunc.refGene']=='nonsynonymous SNV')]['ClinPred_score'].replace('.', 0).astype(float)<0.85\n",
    "    drop = drop[drop].index\n",
    "    drop_ind = [i for i in drop if i not in path_ind]\n",
    "    dv = dv.drop(drop_ind)\n",
    "    return dv[dv.columns[-10:]]"
   ]
  },
  {
   "cell_type": "code",
   "execution_count": null,
   "id": "90aad626-5f78-405c-b34a-e40676f1af10",
   "metadata": {},
   "outputs": [],
   "source": [
    "def GATK_filter(all_df):\n",
    "    all_df = all_df[all_df['Otherinfo9']>350]\n",
    "    all_df = all_df[all_df['Otherinfo10']=='PASS']\n",
    "    return all_df\n",
    "def DV_filter(all_df):\n",
    "    all_df = all_df[all_df['Otherinfo9']>10]\n",
    "    return all_df"
   ]
  },
  {
   "cell_type": "code",
   "execution_count": 180,
   "id": "b53bd939-daf6-48cf-a5ab-de5f91df8d51",
   "metadata": {},
   "outputs": [],
   "source": [
    "def write_vcf(all_df,output_file, Type='GATK'):\n",
    "    all_df.columns = vcf_header\n",
    "    all_df = all_df.sort_values(['CHROM', 'POS'])\n",
    "    if Type=='GATK':\n",
    "        head = pd.read_csv('Manuscript_Exome/FULL_GATK_Header.txt', sep ='\\n', header = None)\n",
    "        head = '\\n'.join(list(head[0]))\n",
    "        head = head.replace('46A', '0')\n",
    "    else:\n",
    "        head = pd.read_csv('Manuscript_Exome/FULL_DV_Header.txt', sep ='\\n', header = None)\n",
    "        head = '\\n'.join(list(head[0]))\n",
    "        head = head.replace('456', '0')\n",
    "        \n",
    "    \n",
    "    output_VCF = 'Manuscript_Exome/Combined_VCFEVAL/ANNO/'+output_file+'.vcf'\n",
    "    with open(output_VCF, 'w') as vcf:\n",
    "        vcf.write(head+'\\n')\n",
    "    all_df.to_csv(output_VCF, sep=\"\\t\", mode='a', index=False, header = None)"
   ]
  },
  {
   "cell_type": "code",
   "execution_count": null,
   "id": "8093306f-60eb-4b5d-a073-e2a195912500",
   "metadata": {},
   "outputs": [],
   "source": [
    "#GATK\n",
    "for group in dup74[59:]: \n",
    "    for sample in group:\n",
    "        samp = sample.split('_final')[0]\n",
    "        path = 'Manuscript_Exome/Combined_VCFEVAL/ANNO/PRE_GATK/{}.hg19_multianno.txt'.format(samp)\n",
    "        all_df = Rare_Pathogenic(path)\n",
    "        all_df = GATK_filter(all_df)\n",
    "        write_vcf(all_df, 'FILT_GATK/'+sample.split('.vcf')[0], Type='GATK')\n",
    "        print(sample)"
   ]
  },
  {
   "cell_type": "code",
   "execution_count": null,
   "id": "0da499c8-a00a-4261-915e-f7547ec545bc",
   "metadata": {},
   "outputs": [],
   "source": [
    "#Hybrid\n",
    "for group in dup74[59:]: \n",
    "    for sample in group:\n",
    "        samp = sample.split('_final')[0]\n",
    "        path = 'Manuscript_Exome/Combined_VCFEVAL/ANNO/PRE_HYBRID/{}.hg19_multianno.txt'.format(samp)\n",
    "        all_df = Rare_Pathogenic(path)\n",
    "        write_vcf(all_df, 'FILT_HYBRID/'+sample.split('.vcf')[0], Type='GATK')\n",
    "        print(sample)"
   ]
  },
  {
   "cell_type": "code",
   "execution_count": null,
   "id": "0ae61866-5aaa-4a43-b128-059b1007d042",
   "metadata": {},
   "outputs": [],
   "source": [
    "#DV\n",
    "for group in dup74[59:]: \n",
    "    for sample in group:\n",
    "        samp = sample.split('_final')[0]\n",
    "        path = 'Manuscript_Exome/Combined_VCFEVAL/ANNO/PRE_DV/{}.hg19_multianno.txt'.format(samp)\n",
    "        all_df = Rare_Pathogenic(path)\n",
    "        all_df = DV_filter(all_df)\n",
    "        write_vcf(all_df, 'FILT_DV/'+sample.split('.vcf')[0], Type='DV')\n",
    "        print(sample)"
   ]
  },
  {
   "cell_type": "code",
   "execution_count": null,
   "id": "0585a815-37ee-41d8-aa83-f0d66dfa90cc",
   "metadata": {},
   "outputs": [],
   "source": [
    "#Baseline\n",
    "for group in range(len(dup74)): \n",
    "        path = 'Manuscript_Exome/Combined_VCFEVAL/ANNO/PRE_BASELINE/Rep{}.hg19_multianno.txt'.format(str(group))\n",
    "        all_df = Rare_Pathogenic(path)\n",
    "        write_vcf(all_df, 'FILT_BASELINE/Rep'+str(group), Type='GATK')\n",
    "        print(group)"
   ]
  },
  {
   "cell_type": "code",
   "execution_count": 189,
   "id": "c29ca87c-8495-4ddf-9c17-8302982676f1",
   "metadata": {},
   "outputs": [],
   "source": [
    "#move old \n",
    "for i in range(59, 74):\n",
    "    for sample in dup74[i]:\n",
    "        os.system('rm -r Manuscript_Exome/Combined_VCFEVAL/RESULTS/ANNO/*/{}'.format(sample.split('_final')[0] ))"
   ]
  },
  {
   "cell_type": "code",
   "execution_count": null,
   "id": "5e821a78-1475-441e-ab21-3a759e6d6bec",
   "metadata": {},
   "outputs": [],
   "source": [
    "# run RTG on RarePathogenic"
   ]
  },
  {
   "cell_type": "code",
   "execution_count": null,
   "id": "2af37f6f-1208-46f5-a111-ef68efc12035",
   "metadata": {},
   "outputs": [],
   "source": [
    "for num, group in enumerate(dup74[59:]): \n",
    "    num = num +59 \n",
    "    for sample in group: \n",
    "        os.system('sbatch -t 00:20:00 --wrap=\"ml anaconda; conda activate bio;rtg vcfeval -b Manuscript_Exome/Combined_VCFEVAL/ANNO/FILT_BASELINE/Rep{}.vcf.gz -c Manuscript_Exome/Combined_VCFEVAL/ANNO/FILT_GATK/{} --all-records --squash-ploidy --no-roc -t /scratch4/jluo2/drabiza1/ICI_data/Manuscript_Exome/hg19_SDF/ -o Manuscript_Exome/Combined_VCFEVAL/RESULTS/ANNO/GATK/{}\"'.format(\n",
    "        str(num),sample, sample.split('_final')[0] )) \n",
    "        os.system('sbatch -t 00:20:00 --wrap=\"ml anaconda; conda activate bio;rtg vcfeval -b Manuscript_Exome/Combined_VCFEVAL/ANNO/FILT_BASELINE/Rep{}.vcf.gz -c Manuscript_Exome/Combined_VCFEVAL/ANNO/FILT_DV/{} --all-records --squash-ploidy --no-roc -t /scratch4/jluo2/drabiza1/ICI_data/Manuscript_Exome/hg19_SDF/ -o Manuscript_Exome/Combined_VCFEVAL/RESULTS/ANNO/DV/{}\"'.format(\n",
    "        str(num),sample, sample.split('_final')[0] )) \n",
    "        os.system('sbatch -t 00:20:00 --wrap=\"ml anaconda; conda activate bio;rtg vcfeval -b Manuscript_Exome/Combined_VCFEVAL/ANNO/FILT_BASELINE/Rep{}.vcf.gz -c Manuscript_Exome/Combined_VCFEVAL/ANNO/FILT_HYBRID/{} --all-records --squash-ploidy --no-roc -t /scratch4/jluo2/drabiza1/ICI_data/Manuscript_Exome/hg19_SDF/ -o Manuscript_Exome/Combined_VCFEVAL/RESULTS/ANNO/HYBRID/{}\"'.format(\n",
    "        str(num),sample, sample.split('_final')[0] )) "
   ]
  },
  {
   "cell_type": "markdown",
   "id": "70a44fcc-c973-43e0-a32b-e4c7283b40b4",
   "metadata": {},
   "source": [
    "# Import Results "
   ]
  },
  {
   "cell_type": "code",
   "execution_count": 4,
   "id": "0dde6eb6-42d5-474a-a696-cc2b4f793717",
   "metadata": {},
   "outputs": [],
   "source": [
    "master_plot = [[], [], []]"
   ]
  },
  {
   "cell_type": "code",
   "execution_count": 9,
   "id": "27b3e4c4-b261-46ff-872c-101b21b839b1",
   "metadata": {},
   "outputs": [
    {
     "name": "stdout",
     "output_type": "stream",
     "text": [
      "GATK:\n",
      "TP: 2678.0 FP: 509.0 FN: 337.0\n",
      "Sensitivity: 0.8882255389718077\n",
      "Specififity: 0.8402886727329777\n",
      "F-measure: 0.8635923895517574\n"
     ]
    },
    {
     "data": {
      "text/plain": [
       "(None, None, None)"
      ]
     },
     "execution_count": 9,
     "metadata": {},
     "output_type": "execute_result"
    }
   ],
   "source": [
    "tp = []\n",
    "fp = []\n",
    "fn = []\n",
    "for num, group in enumerate(dup74[20:]): \n",
    "    sample = group[0]\n",
    "    sample = sample.split('_final')[0]\n",
    "    df = pd.read_csv('Manuscript_Exome/Combined_VCFEVAL/RESULTS/ANNO/GATK/{}/summary.txt'.format(sample), sep ='\\s+')\n",
    "    tp.append(df.loc[1]['True-pos-baseline'])\n",
    "    fp.append(df.loc[1]['False-pos'])\n",
    "    fn.append(df.loc[1]['False-neg'])\n",
    "spec = sum(tp)/(sum(tp)+sum(fp))\n",
    "sens = sum(tp)/(sum(tp)+sum(fn))\n",
    "F_meas = (2*spec*sens)/(sens+spec)\n",
    "print('GATK:')\n",
    "print('TP:', sum(tp), 'FP:', sum(fp), 'FN:', sum(fn))\n",
    "print('Sensitivity:', sens )\n",
    "print('Specififity:', spec)\n",
    "print('F-measure:', F_meas)\n",
    "master_plot[0].append(sens), master_plot[1].append(spec), master_plot[2].append(F_meas)"
   ]
  },
  {
   "cell_type": "code",
   "execution_count": 10,
   "id": "5ded2f66-4240-4bf6-90ec-e3d46c622d30",
   "metadata": {},
   "outputs": [
    {
     "name": "stdout",
     "output_type": "stream",
     "text": [
      "DV:\n",
      "TP: 2683.0 FP: 276.0 FN: 332.0\n",
      "Sensitivity: 0.8898839137645108\n",
      "Specififity: 0.9067252450152078\n",
      "F-measure: 0.8982256444593236\n"
     ]
    },
    {
     "data": {
      "text/plain": [
       "(None, None, None)"
      ]
     },
     "execution_count": 10,
     "metadata": {},
     "output_type": "execute_result"
    }
   ],
   "source": [
    "tp = []\n",
    "fp = []\n",
    "fn = []\n",
    "for num, group in enumerate(dup74[20:]): \n",
    "    sample = group[0]\n",
    "    sample = sample.split('_final')[0]\n",
    "    df = pd.read_csv('Manuscript_Exome/Combined_VCFEVAL/RESULTS/ANNO/DV/{}/summary.txt'.format(sample), sep ='\\s+')\n",
    "    tp.append(df.loc[1]['True-pos-baseline'])\n",
    "    fp.append(df.loc[1]['False-pos'])\n",
    "    fn.append(df.loc[1]['False-neg'])\n",
    "spec = sum(tp)/(sum(tp)+sum(fp))\n",
    "sens = sum(tp)/(sum(tp)+sum(fn))\n",
    "F_meas = (2*spec*sens)/(sens+spec)\n",
    "print('DV:')\n",
    "print('TP:', sum(tp), 'FP:', sum(fp), 'FN:', sum(fn))\n",
    "print('Sensitivity:', sens)\n",
    "print('Specififity:', spec)\n",
    "print('F-measure:', F_meas)\n",
    "master_plot[0].append(sens), master_plot[1].append(spec), master_plot[2].append(F_meas)"
   ]
  },
  {
   "cell_type": "code",
   "execution_count": 11,
   "id": "e78a7a2e-ab5d-4c7c-a0e3-a902fbac04cd",
   "metadata": {},
   "outputs": [
    {
     "name": "stdout",
     "output_type": "stream",
     "text": [
      "HYBRID:\n",
      "TP: 2893.0 FP: 108.0 FN: 122.0\n",
      "Sensitivity: 0.9595356550580432\n",
      "Specififity: 0.9640119960013329\n",
      "F-measure: 0.9617686170212767\n"
     ]
    },
    {
     "data": {
      "text/plain": [
       "(None, None, None)"
      ]
     },
     "execution_count": 11,
     "metadata": {},
     "output_type": "execute_result"
    }
   ],
   "source": [
    "tp = []\n",
    "fp = []\n",
    "fn = []\n",
    "for num, group in enumerate(dup74[20:]): \n",
    "    sample = group[0]\n",
    "    sample = sample.split('_final')[0]\n",
    "    df = pd.read_csv('Manuscript_Exome/Combined_VCFEVAL/RESULTS/ANNO/HYBRID/{}/summary.txt'.format(sample), sep ='\\s+')\n",
    "    tp.append(df.loc[1]['True-pos-baseline'])\n",
    "    fp.append(df.loc[1]['False-pos'])\n",
    "    fn.append(df.loc[1]['False-neg'])\n",
    "spec = sum(tp)/(sum(tp)+sum(fp))\n",
    "sens = sum(tp)/(sum(tp)+sum(fn))\n",
    "F_meas = (2*spec*sens)/(sens+spec)\n",
    "print('HYBRID:')\n",
    "print('TP:', sum(tp), 'FP:', sum(fp), 'FN:', sum(fn))\n",
    "print('Sensitivity:', sens)\n",
    "print('Specififity:', spec)\n",
    "print('F-measure:', F_meas)\n",
    "master_plot[0].append(sens), master_plot[1].append(spec), master_plot[2].append(F_meas)"
   ]
  },
  {
   "cell_type": "code",
   "execution_count": 22,
   "id": "8d6e3138-41f1-4243-93eb-588f121e25ec",
   "metadata": {},
   "outputs": [],
   "source": [
    "#plt.rcParams[\"font.family\"] = \"cursive\"\n",
    "#matplotlib.rcParams['text.usetex'] = True"
   ]
  },
  {
   "cell_type": "code",
   "execution_count": 8,
   "id": "6ad516ce-1675-4061-9395-8769c1f843e7",
   "metadata": {},
   "outputs": [
    {
     "data": {
      "image/png": "[encoded data removed]",
      "text/plain": [
       "<Figure size 1008x576 with 1 Axes>"
      ]
     },
     "metadata": {},
     "output_type": "display_data"
    }
   ],
   "source": [
    "plt.figure(figsize=(14,8))\n",
    "plt.bar([0,1,2, 5,6,7, 10,11,12], hstack(master_plot), color =['green', 'blue', 'red'], \n",
    "       alpha = 0.7, edgecolor = 'black', linewidth=1)\n",
    "plt.bar(0,0, color='g', alpha =0.7, label='GATK')\n",
    "plt.bar(0,0, color='b', alpha =0.7, label='Deepvariant')\n",
    "plt.bar(0,0, color='r', alpha =0.7, label='Hybrid')\n",
    "plt.legend(fontsize=18, loc=(1,.8))\n",
    "plt.xticks([1,6,11], ['Sensitivity', 'Specificity', 'F-measure'], fontsize =16)\n",
    "plt.title('Detection of Rare pLOF variants', fontsize = 22)\n",
    "for ind, i in enumerate([0,1,2, 5,6,7, 10,11,12]):\n",
    "    plt.text(i-0.2, hstack(master_plot)[ind]+.01, str(hstack(master_plot)[ind])[0:5] , color='black')\n",
    "    \n",
    "plt.show()"
   ]
  },
  {
   "cell_type": "code",
   "execution_count": 202,
   "id": "469bf38f-d02d-4ddc-9989-c304857170cb",
   "metadata": {},
   "outputs": [],
   "source": [
    "def get_summary(caller):\n",
    "    tp = []\n",
    "    fp = []\n",
    "    fn = []\n",
    "    for num, group in enumerate(dup74[20:]): \n",
    "        sample = group[0]\n",
    "        sample = sample.split('_final')[0]\n",
    "        df = pd.read_csv('Manuscript_Exome/Combined_VCFEVAL/RESULTS/{}/{}/summary.txt'.format(caller,sample), sep ='\\s+')\n",
    "        tp.append(df.loc[1]['True-pos-baseline'])\n",
    "        fp.append(df.loc[1]['False-pos'])\n",
    "        fn.append(df.loc[1]['False-neg'])\n",
    "    spec = sum(tp)/(sum(tp)+sum(fp))\n",
    "    sens = sum(tp)/(sum(tp)+sum(fn))\n",
    "    F_meas = (2*spec*sens)/(sens+spec)\n",
    "    return sens, spec, F_meas"
   ]
  },
  {
   "cell_type": "code",
   "execution_count": 203,
   "id": "568ae8e3-45b3-4a1e-871a-9bbe8d2e193e",
   "metadata": {},
   "outputs": [
    {
     "data": {
      "text/plain": [
       "(None, None, None)"
      ]
     },
     "execution_count": 203,
     "metadata": {},
     "output_type": "execute_result"
    }
   ],
   "source": [
    "master_plot = [[], [], []]\n",
    "sens, spec , F = get_summary( 'GATK')\n",
    "master_plot[0].append(sens), master_plot[1].append(spec), master_plot[2].append(F)\n",
    "sens, spec , F = get_summary('DV')\n",
    "master_plot[0].append(sens), master_plot[1].append(spec), master_plot[2].append(F)\n",
    "sens, spec , F = get_summary('HYBRID')\n",
    "master_plot[0].append(sens), master_plot[1].append(spec), master_plot[2].append(F)"
   ]
  },
  {
   "cell_type": "code",
   "execution_count": 204,
   "id": "da60ef6c-5ffa-4872-b462-761e4682b2bf",
   "metadata": {},
   "outputs": [
    {
     "data": {
      "image/png": "[encoded data removed]",
      "text/plain": [
       "<Figure size 1008x576 with 1 Axes>"
      ]
     },
     "metadata": {},
     "output_type": "display_data"
    }
   ],
   "source": [
    "plt.figure(figsize=(14,8))\n",
    "plt.bar([0,1,2, 5,6,7, 10,11,12], hstack(master_plot), color =['green', 'blue', 'red'], \n",
    "       alpha = 0.7, edgecolor = 'black', linewidth=1)\n",
    "plt.bar(0,0, color='g', alpha =0.7, label='GATK')\n",
    "plt.bar(0,0, color='b', alpha =0.7, label='Deepvariant')\n",
    "plt.bar(0,0, color='r', alpha =0.7, label='Hybrid')\n",
    "plt.legend(fontsize=18, loc=(1,.8))\n",
    "plt.xticks([1,6,11], ['Sensitivity', 'Specificity', 'F-measure'], fontsize =16)\n",
    "plt.title('WES', fontsize = 24)\n",
    "for ind, i in enumerate([0,1,2, 5,6,7, 10,11,12]):\n",
    "    plt.text(i-0.2, hstack(master_plot)[ind]+.01, str(hstack(master_plot)[ind])[0:5] , color='black')\n",
    "ylim(0.5,1.03)\n",
    "plt.show()"
   ]
  },
  {
   "cell_type": "code",
   "execution_count": 13,
   "id": "18f5f271-f9f4-4fbc-afc6-e7d60f82ab13",
   "metadata": {},
   "outputs": [],
   "source": [
    "coverage = {}\n",
    "for group in dup74:\n",
    "    #print('Group')\n",
    "    for samp in group:\n",
    "        samp1 = samp.split('.vcf')[0]\n",
    "        try1 = os.popen('cat PaperON/Coverage/'+samp1+'.txt').read()\n",
    "        coverage[samp] = float(try1.split('\\n')[0].split('=  ')[1])\n",
    "    "
   ]
  },
  {
   "cell_type": "code",
   "execution_count": 14,
   "id": "e21c9143-49a4-409a-90a5-c96630036a93",
   "metadata": {},
   "outputs": [
    {
     "name": "stdout",
     "output_type": "stream",
     "text": [
      "18 30\n"
     ]
    }
   ],
   "source": [
    "low = []\n",
    "high = []\n",
    "for num, group in enumerate(dup74[20:]): \n",
    "    if coverage[group[0]] <=40:\n",
    "        low.append(group[0])\n",
    "    elif coverage[group[1]]<=40:\n",
    "        low.append(group[1])\n",
    "    elif coverage[group[0]]>=60:\n",
    "        high.append(group[0])\n",
    "    elif coverage[group[1]]>=60:\n",
    "        high.append(group[1])\n",
    "print(len(low), len(high))"
   ]
  },
  {
   "cell_type": "code",
   "execution_count": 15,
   "id": "1572562d-b649-4def-ace8-d1274c021e52",
   "metadata": {},
   "outputs": [],
   "source": [
    "def get_summary(caller, low_high):\n",
    "    tp = []\n",
    "    fp = []\n",
    "    fn = []\n",
    "    for sample in low_high:\n",
    "        sample = sample.split('_final')[0]\n",
    "        df = pd.read_csv('Manuscript_Exome/Combined_VCFEVAL/RESULTS/ANNO/{}/{}/summary.txt'.format(caller,sample), sep ='\\s+')\n",
    "        tp.append(df.loc[1]['True-pos-baseline'])\n",
    "        fp.append(df.loc[1]['False-pos'])\n",
    "        fn.append(df.loc[1]['False-neg'])\n",
    "    spec = sum(tp)/(sum(tp)+sum(fp))\n",
    "    sens = sum(tp)/(sum(tp)+sum(fn))\n",
    "    print('TP:', sum(tp), 'FP:', sum(fp), 'FN:', sum(fn))\n",
    "    F_meas = (2*spec*sens)/(sens+spec)\n",
    "    return sens, spec, F_meas"
   ]
  },
  {
   "cell_type": "code",
   "execution_count": null,
   "id": "5166878e-a4f7-4264-b100-8c6bf0b4af0b",
   "metadata": {},
   "outputs": [],
   "source": []
  },
  {
   "cell_type": "code",
   "execution_count": 16,
   "id": "135916c9-17bb-4ca5-8a85-dadc08ca9b43",
   "metadata": {},
   "outputs": [
    {
     "name": "stdout",
     "output_type": "stream",
     "text": [
      "TP: 1554.0 FP: 252.0 FN: 174.0\n",
      "TP: 1507.0 FP: 138.0 FN: 221.0\n",
      "TP: 1658.0 FP: 47.0 FN: 70.0\n"
     ]
    },
    {
     "data": {
      "text/plain": [
       "(None, None, None)"
      ]
     },
     "execution_count": 16,
     "metadata": {},
     "output_type": "execute_result"
    }
   ],
   "source": [
    "master_plot = [[], [], []]\n",
    "sens, spec , F = get_summary('GATK', high)\n",
    "master_plot[0].append(sens), master_plot[1].append(spec), master_plot[2].append(F)\n",
    "sens, spec , F = get_summary('DV', high)\n",
    "master_plot[0].append(sens), master_plot[1].append(spec), master_plot[2].append(F)\n",
    "sens, spec , F = get_summary('HYBRID', high)\n",
    "master_plot[0].append(sens), master_plot[1].append(spec), master_plot[2].append(F)"
   ]
  },
  {
   "cell_type": "code",
   "execution_count": 209,
   "id": "16aee8c3-67c2-491b-94e7-ce16740a49a5",
   "metadata": {},
   "outputs": [
    {
     "data": {
      "image/png": "[encoded data removed]",
      "text/plain": [
       "<Figure size 1008x576 with 1 Axes>"
      ]
     },
     "metadata": {},
     "output_type": "display_data"
    }
   ],
   "source": [
    "plt.figure(figsize=(14,8))\n",
    "plt.bar([0,1,2, 5,6,7, 10,11,12], hstack(master_plot), color =['green', 'blue', 'red'], \n",
    "       alpha = 0.7, edgecolor = 'black', linewidth=1)\n",
    "plt.bar(0,0, color='g', alpha =0.7, label='GATK')\n",
    "plt.bar(0,0, color='b', alpha =0.7, label='Deepvariant')\n",
    "plt.bar(0,0, color='r', alpha =0.7, label='Hybrid')\n",
    "plt.legend(fontsize=18, loc=(1,.8))\n",
    "plt.xticks([1,6,11], ['Sensitivity', 'Specificity', 'F-measure'], fontsize =16)\n",
    "plt.title('Detection of Rare pLOF variants - Cov > 60x', fontsize = 22)\n",
    "for ind, i in enumerate([0,1,2, 5,6,7, 10,11,12]):\n",
    "    plt.text(i-0.2, hstack(master_plot)[ind]+.01, str(hstack(master_plot)[ind])[0:5] , color='black')\n",
    "plt.show()"
   ]
  },
  {
   "cell_type": "code",
   "execution_count": 210,
   "id": "7d124166-6167-41a6-82ad-2afbd40cd88d",
   "metadata": {},
   "outputs": [
    {
     "data": {
      "text/plain": [
       "(None, None, None)"
      ]
     },
     "execution_count": 210,
     "metadata": {},
     "output_type": "execute_result"
    }
   ],
   "source": [
    "master_plot = [[], [], []]\n",
    "sens, spec , F = get_summary('GATK', low)\n",
    "master_plot[0].append(sens), master_plot[1].append(spec), master_plot[2].append(F)\n",
    "sens, spec , F = get_summary('DV', low)\n",
    "master_plot[0].append(sens), master_plot[1].append(spec), master_plot[2].append(F)\n",
    "sens, spec , F = get_summary('HYBRID', low)\n",
    "master_plot[0].append(sens), master_plot[1].append(spec), master_plot[2].append(F)"
   ]
  },
  {
   "cell_type": "code",
   "execution_count": 211,
   "id": "45e45f9a-4963-403d-82a8-16f79e1f6479",
   "metadata": {},
   "outputs": [
    {
     "data": {
      "image/png": "[encoded data removed]",
      "text/plain": [
       "<Figure size 1008x576 with 1 Axes>"
      ]
     },
     "metadata": {},
     "output_type": "display_data"
    }
   ],
   "source": [
    "plt.figure(figsize=(14,8))\n",
    "plt.bar([0,1,2, 5,6,7, 10,11,12], hstack(master_plot), color =['green', 'blue', 'red'], \n",
    "       alpha = 0.7, edgecolor = 'black', linewidth=1)\n",
    "plt.bar(0,0, color='g', alpha =0.7, label='GATK')\n",
    "plt.bar(0,0, color='b', alpha =0.7, label='Deepvariant')\n",
    "plt.bar(0,0, color='r', alpha =0.7, label='Hybrid')\n",
    "plt.legend(fontsize=18, loc=(1,.8))\n",
    "plt.xticks([1,6,11], ['Sensitivity', 'Specificity', 'F-measure'], fontsize =16)\n",
    "plt.title('Detection of Rare pLOF variants - Cov <40x', fontsize = 22)\n",
    "for ind, i in enumerate([0,1,2, 5,6,7, 10,11,12]):\n",
    "    plt.text(i-0.2, hstack(master_plot)[ind]+.01, str(hstack(master_plot)[ind])[0:5] , color='black')\n",
    "plt.show()"
   ]
  },
  {
   "cell_type": "code",
   "execution_count": null,
   "id": "10ae6233-19ee-46b2-92da-089e462ad13a",
   "metadata": {},
   "outputs": [],
   "source": []
  },
  {
   "cell_type": "code",
   "execution_count": 17,
   "id": "970ea561-4d10-4de3-9990-7766067fa116",
   "metadata": {},
   "outputs": [],
   "source": [
    "def get_summary(caller, low_high):\n",
    "    tp = []\n",
    "    fp = []\n",
    "    fn = []\n",
    "    for sample in low_high:\n",
    "        sample = sample.split('_final')[0]\n",
    "        df = pd.read_csv('Manuscript_Exome/Combined_VCFEVAL/RESULTS/ANNO/{}/{}/summary.txt'.format(caller,sample), sep ='\\s+')\n",
    "        tp.append(df.loc[1]['True-pos-baseline'])\n",
    "        fp.append(df.loc[1]['False-pos'])\n",
    "        fn.append(df.loc[1]['False-neg'])\n",
    "    spec = sum(tp)/(sum(tp)+sum(fp))\n",
    "    sens = sum(tp)/(sum(tp)+sum(fn))\n",
    "    F_meas = (2*spec*sens)/(sens+spec)\n",
    "    return sens, spec, F_meas"
   ]
  },
  {
   "cell_type": "code",
   "execution_count": 18,
   "id": "5dc63160-4c09-4f79-9ff9-1248e3124d3c",
   "metadata": {},
   "outputs": [],
   "source": [
    "gatk = pd.DataFrame()\n",
    "per = []\n",
    "sen = []\n",
    "fm = []\n",
    "caller = 'GATK'\n",
    "for group in dup74[20:]:\n",
    "    sample = group[0]\n",
    "    sample = sample.split('_final')[0]\n",
    "    df = pd.read_csv('Manuscript_Exome/Combined_VCFEVAL/RESULTS/ANNO/{}/{}/summary.txt'.format(caller,sample), sep ='\\s+')\n",
    "    per.append(df.loc[1]['Precision'])\n",
    "    sen.append(df.loc[1]['Sensitivity'])\n",
    "    fm.append(df.loc[1]['F-measure'])\n",
    "\n",
    "gatk = pd.DataFrame()\n",
    "gatk['value'] = per +sen +fm\n",
    "gatk['metric'] = ['Specificity' for i in range(54)] + ['Sensitivity' for i in range(54)] + ['F-measure' for i in range(54)]\n",
    "gatk['caller'] = ['GATK' for i in range(54*3)]\n"
   ]
  },
  {
   "cell_type": "code",
   "execution_count": 19,
   "id": "92f343fa-ebf6-4106-8b72-90b527430382",
   "metadata": {},
   "outputs": [],
   "source": [
    "dv = pd.DataFrame()\n",
    "per = []\n",
    "sen = []\n",
    "fm = []\n",
    "caller = 'DV'\n",
    "for group in dup74[20:]:\n",
    "    sample = group[0]\n",
    "    sample = sample.split('_final')[0]\n",
    "    df = pd.read_csv('Manuscript_Exome/Combined_VCFEVAL/RESULTS/ANNO/{}/{}/summary.txt'.format(caller,sample), sep ='\\s+')\n",
    "    per.append(df.loc[1]['Precision'])\n",
    "    sen.append(df.loc[1]['Sensitivity'])\n",
    "    fm.append(df.loc[1]['F-measure'])\n",
    "\n",
    "dv = pd.DataFrame()\n",
    "dv['value'] = per +sen +fm\n",
    "dv['metric'] = ['Specificity' for i in range(54)] + ['Sensitivity' for i in range(54)] + ['F-measure' for i in range(54)]\n",
    "dv['caller'] = ['Deepvariant' for i in range(54*3)]"
   ]
  },
  {
   "cell_type": "code",
   "execution_count": 20,
   "id": "e6bbaaa3-f57f-45a3-85fa-d2a29d1902bb",
   "metadata": {},
   "outputs": [],
   "source": [
    "hybrid = pd.DataFrame()\n",
    "per = []\n",
    "sen = []\n",
    "fm = []\n",
    "caller = 'HYBRID'\n",
    "for group in dup74[20:]:\n",
    "    sample = group[0]\n",
    "    sample = sample.split('_final')[0]\n",
    "    df = pd.read_csv('Manuscript_Exome/Combined_VCFEVAL/RESULTS/ANNO/{}/{}/summary.txt'.format(caller,sample), sep ='\\s+')\n",
    "    per.append(df.loc[1]['Precision'])\n",
    "    sen.append(df.loc[1]['Sensitivity'])\n",
    "    fm.append(df.loc[1]['F-measure'])\n",
    "\n",
    "hybrid = pd.DataFrame()\n",
    "hybrid['value'] = per +sen +fm\n",
    "hybrid['metric'] = ['Specificity' for i in range(54)] + ['Sensitivity' for i in range(54)] + ['F-measure' for i in range(54)]\n",
    "hybrid['caller'] = ['Hybrid' for i in range(54*3)]"
   ]
  },
  {
   "cell_type": "code",
   "execution_count": 21,
   "id": "06169081-df4c-4001-89c1-ac8b4805f7ed",
   "metadata": {},
   "outputs": [],
   "source": [
    "plotdf = pd.concat([gatk, dv, hybrid])"
   ]
  },
  {
   "cell_type": "code",
   "execution_count": 22,
   "id": "4b145af8-151e-4d3b-a6c2-a0abd2b8a642",
   "metadata": {
    "tags": []
   },
   "outputs": [
    {
     "data": {
      "text/html": [
       "<iframe\n",
       "    scrolling=\"no\"\n",
       "    width=\"100%\"\n",
       "    height=\"545px\"\n",
       "    src=\"iframe_figures/figure_22.html\"\n",
       "    frameborder=\"0\"\n",
       "    allowfullscreen\n",
       "></iframe>\n"
      ]
     },
     "metadata": {},
     "output_type": "display_data"
    }
   ],
   "source": [
    "fig = px.box(plotdf, y=\"value\", facet_col=\"metric\", color=\"caller\", points = None, \n",
    "            color_discrete_sequence=[ \"green\", \"blue\", \"red\"])\n",
    "fig.for_each_annotation(lambda a: a.update(text=a.text.split(\"=\")[-1]))\n",
    "fig.show()"
   ]
  },
  {
   "cell_type": "code",
   "execution_count": 4,
   "id": "3e161746-4d4e-42fe-937e-4cc16d672d04",
   "metadata": {},
   "outputs": [],
   "source": [
    "def make_axis(num):\n",
    "    xaxis = []\n",
    "    skip = 0 \n",
    "    for i in list(range(num*4)): \n",
    "        if skip  < 2: \n",
    "            xaxis.append(i)\n",
    "            skip +=1\n",
    "        elif skip == 2:\n",
    "            skip +=1\n",
    "        elif skip ==3: \n",
    "            skip =0\n",
    "    JIpos = arange(0.5, max(xaxis)+0.5, 4)   \n",
    "    return xaxis, JIpos"
   ]
  },
  {
   "cell_type": "code",
   "execution_count": 77,
   "id": "b6bc2a50-b9f1-4a32-a4c4-7216793f910b",
   "metadata": {},
   "outputs": [],
   "source": [
    "def UpPair(df, vspacing = 0, title='UpPair',title_fontsize =18, plot_type='scatter', point_color = 'black',\n",
    "          marker = \"^\", upper_ylabel = \"Jaccard Index\", upper_color = 'red', upper_legend = False, connected = 'None',\n",
    "          upper_ymin = 0.5, upper_ymax = 1, lower_color = 'green', color1 ='lightgreen', color2 = None, \n",
    "          lower_ylabel = None, lower_xlabel = 'Samples', tick_labels = None, intersection_width = 2.5,\n",
    "          intersection_label = None, label1 = None, label2 = None, style = 'ggplot'):\n",
    "    plt.style.use(style)\n",
    "    fig = plt.figure()\n",
    "    fig.set_figheight(10)\n",
    "    fig.set_figwidth(18)\n",
    "    xaxis, JIpos = make_axis(df.shape[0])\n",
    "    spec = gridspec.GridSpec(ncols=1, nrows=2,\n",
    "                             width_ratios=[1], wspace=0.1,\n",
    "                             hspace=vspacing, height_ratios=[1, 2])\n",
    "    twin1 = fig.add_subplot(spec[0])\n",
    "    plt.title(title, fontsize=title_fontsize)\n",
    "    p2 = twin1.plot(JIpos, df['JI'], label=upper_ylabel, color = point_color, \n",
    "                        marker = marker, linestyle = connected, markersize=12)\n",
    "    twin1.set_ylabel(upper_ylabel, fontsize=14)\n",
    "    twin1.yaxis.label.set_color(upper_color)\n",
    "    twin1.tick_params(axis='y', colors=upper_color, labelsize=14 )\n",
    "    if upper_legend==True:\n",
    "        twin1.legend()\n",
    "    #SHADING\n",
    "\n",
    "    twin1.set_ylim(upper_ymin, upper_ymax)  #Also change this\n",
    "    alph =0.1\n",
    "    grades = (upper_ymax-upper_ymin)/5\n",
    "    for h in range(1,6):\n",
    "        twin1.axhspan(upper_ymin+((h-1)*grades), upper_ymin+(h*grades), alpha=alph, lw=0, color=upper_color)\n",
    "        alph +=0.14\n",
    "    \n",
    "    twin1.tick_params(axis ='x',bottom = False)\n",
    "    twin1.set_xticklabels( [])\n",
    "\n",
    "    if color2==None: \n",
    "        color2=color1\n",
    "    ax = fig.add_subplot(spec[1])\n",
    "    ax.bar(xaxis[::2], df['P1'], color = color1, \n",
    "           label = label1, edgecolor='black', alpha = 0.7, linewidth = 1)\n",
    "    ax.bar(xaxis[1:][::2], df['P2'], color = color2, \n",
    "           label = label2, edgecolor='black', alpha = 0.7, linewidth = 1)\n",
    "    ax.bar(JIpos, df['Intersection'], width = intersection_width, alpha =0.7, color =lower_color, \n",
    "           edgecolor='black', label = intersection_label)\n",
    "    ax.legend()\n",
    "    ax.set_xticks(JIpos)\n",
    "    ax.tick_params(axis='y', colors='black' , labelsize=14 )\n",
    "    ax.yaxis.label.set_color('black')\n",
    "    ax.set_ylabel(lower_ylabel, fontsize=18)\n",
    "    ax.set_xlabel(lower_xlabel, fontsize=18)\n",
    "    ax.set_xticklabels( tick_labels, rotation =45)\n",
    "    ax.set_ylim(0, 110)\n",
    "\n",
    "    plt.show()"
   ]
  },
  {
   "cell_type": "code",
   "execution_count": 81,
   "id": "aa99543e-51b8-4483-ac67-a0d587c039a8",
   "metadata": {},
   "outputs": [],
   "source": [
    "JI = []\n",
    "P1 = []\n",
    "P2 = []\n",
    "INTER = []\n",
    "caller = 'HYBRID'\n",
    "for group in dup74[20:]:\n",
    "    df1 = pd.read_csv('Manuscript_Exome/Combined_VCFEVAL/ANNO/FILT_{}/{}'.format(caller,group[0]), \n",
    "                     sep ='\\s+', comment = '#', header = None)\n",
    "    df1 = df1[df1[7].apply(get_AF)<0.1] #remove repeats\n",
    "    df2 = pd.read_csv('Manuscript_Exome/Combined_VCFEVAL/ANNO/FILT_{}/{}'.format(caller,group[1]), \n",
    "                     sep ='\\s+', comment = '#', header = None)\n",
    "    df2 = df2[df2[7].apply(get_AF)<0.1] #remove repeats\n",
    "    p1 = len(set(df1[1]))\n",
    "    p2 = len(set(df2[1]))\n",
    "    inter = len(list(  set(df1[1]) &   set(df2[1])   ))\n",
    "    ji = inter /len(unique(list(df2[1]) +list(df1[1])))\n",
    "    JI.append(ji)\n",
    "    P1.append(p1)\n",
    "    P2.append(p2)\n",
    "    INTER.append(inter)\n",
    "        \n",
    "df = pd.DataFrame()\n",
    "df['P1'] = P1\n",
    "df['P2'] = P2\n",
    "df['Intersection'] = INTER\n",
    "df['JI'] = JI"
   ]
  },
  {
   "cell_type": "code",
   "execution_count": 82,
   "id": "a2ae7730-b969-457c-a3e3-e91ed18cd8e2",
   "metadata": {},
   "outputs": [
    {
     "name": "stderr",
     "output_type": "stream",
     "text": [
      "No handles with labels found to put in legend.\n"
     ]
    },
    {
     "data": {
      "image/png": "[encoded data removed]",
      "text/plain": [
       "<Figure size 1296x720 with 2 Axes>"
      ]
     },
     "metadata": {},
     "output_type": "display_data"
    }
   ],
   "source": [
    "ticks = ['Pair '+str(i+1) for i in range(54)]\n",
    "UpPair(df, vspacing = 0, title=None,title_fontsize =18, plot_type='scatter', point_color = 'black',\n",
    "          marker = \"^\", upper_ylabel = \"Jaccard Index\", upper_color = 'red', upper_legend = False, connected = 'None',\n",
    "          upper_ymin = 0.5, upper_ymax = 1.05, lower_color = 'indianred', color1 ='salmon', color2 = None, \n",
    "          lower_ylabel ='# of pLOF variants', lower_xlabel = None, tick_labels = ticks, intersection_width = 2.5,\n",
    "          intersection_label = None, label1 = None, label2 = None, style = 'ggplot')"
   ]
  },
  {
   "cell_type": "code",
   "execution_count": 42,
   "id": "15fded54-9687-4214-aad4-9cd0964f4ccd",
   "metadata": {},
   "outputs": [],
   "source": [
    "\n",
    "INTER = []\n",
    "for caller in ['GATK','DV']:\n",
    "    for group in dup74[20:21]:\n",
    "        df1 = pd.read_csv('Manuscript_Exome/Combined_VCFEVAL/ANNO/FILT_{}/{}'.format(caller,group[0]), \n",
    "                         sep ='\\s+', comment = '#', header = None)\n",
    "        df2 = pd.read_csv('Manuscript_Exome/Combined_VCFEVAL/ANNO/FILT_{}/{}'.format(caller,group[1]), \n",
    "                         sep ='\\s+', comment = '#', header = None)\n",
    "        p1 = len(set(df1[1]))\n",
    "        p2 = len(set(df2[1]))\n",
    "        inter = list(  set(df1[1]) &   set(df2[1])   )\n",
    "        INTER.append(inter)"
   ]
  },
  {
   "cell_type": "code",
   "execution_count": 30,
   "id": "9fc28181-5425-4703-9fa1-8a0b7dc29a05",
   "metadata": {},
   "outputs": [],
   "source": [
    "temp = []\n",
    "for i in INTER[0]:\n",
    "    if i not in INTER[1]:\n",
    "        temp.append(i)"
   ]
  },
  {
   "cell_type": "code",
   "execution_count": 30,
   "id": "47951025-2d63-41af-82f7-0dd8fe39ce85",
   "metadata": {},
   "outputs": [],
   "source": [
    "temp = []\n",
    "for i in INTER[0]:\n",
    "    if i not in INTER[1]:\n",
    "        temp.append(i)"
   ]
  },
  {
   "cell_type": "code",
   "execution_count": 33,
   "id": "91c7c61c-9da0-42d5-9234-5b5bde4f0e7d",
   "metadata": {},
   "outputs": [],
   "source": [
    "INTER = []\n",
    "for caller in ['GATK']:\n",
    "    for group in dup74[20:21]:\n",
    "        df1 = pd.read_csv('Manuscript_Exome/Combined_VCFEVAL/ANNO/FILT_{}/{}'.format(caller,group[0]), \n",
    "                         sep ='\\s+', comment = '#', header = None)\n",
    "        df2 = pd.read_csv('Manuscript_Exome/Combined_VCFEVAL/ANNO/FILT_{}/{}'.format(caller,group[1]), \n",
    "                         sep ='\\s+', comment = '#', header = None)\n",
    "        p1 = len(set(df1[1]))\n",
    "        p2 = len(set(df2[1]))\n",
    "        inter = list(  set(df1[1]) &   set(df2[1])   )\n",
    "        INTER.append(inter)"
   ]
  }
 ],
 "metadata": {
  "kernelspec": {
   "display_name": "bio",
   "language": "python",
   "name": "bio"
  },
  "language_info": {
   "codemirror_mode": {
    "name": "ipython",
    "version": 3
   },
   "file_extension": ".py",
   "mimetype": "text/x-python",
   "name": "python",
   "nbconvert_exporter": "python",
   "pygments_lexer": "ipython3",
   "version": "3.9.7"
  }
 },
 "nbformat": 4,
 "nbformat_minor": 5
}
